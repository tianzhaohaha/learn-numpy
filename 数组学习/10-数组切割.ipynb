{
 "cells": [
  {
   "cell_type": "code",
   "execution_count": 2,
   "id": "fd8c45f7",
   "metadata": {},
   "outputs": [],
   "source": [
    "import numpy as np"
   ]
  },
  {
   "cell_type": "code",
   "execution_count": 9,
   "id": "f620903f",
   "metadata": {},
   "outputs": [
    {
     "data": {
      "text/plain": [
       "array([[4, 0, 5, 0],\n",
       "       [9, 9, 6, 1],\n",
       "       [9, 0, 5, 9]])"
      ]
     },
     "execution_count": 9,
     "metadata": {},
     "output_type": "execute_result"
    }
   ],
   "source": [
    "a1 = np.random.randint(0,10,size=[3,4])\n",
    "a1"
   ]
  },
  {
   "cell_type": "code",
   "execution_count": null,
   "id": "83846668",
   "metadata": {},
   "outputs": [],
   "source": [
    "#hsplit纵向切割"
   ]
  },
  {
   "cell_type": "code",
   "execution_count": 7,
   "id": "23b6f2ce",
   "metadata": {},
   "outputs": [
    {
     "data": {
      "text/plain": [
       "[array([[7, 3],\n",
       "        [6, 5],\n",
       "        [8, 2]]),\n",
       " array([[6, 3],\n",
       "        [6, 8],\n",
       "        [0, 2]])]"
      ]
     },
     "execution_count": 7,
     "metadata": {},
     "output_type": "execute_result"
    }
   ],
   "source": [
    "np.hsplit(a1,2)#平均分成两份，列数必须可以被2整除"
   ]
  },
  {
   "cell_type": "code",
   "execution_count": 8,
   "id": "753cfd81",
   "metadata": {},
   "outputs": [
    {
     "data": {
      "text/plain": [
       "[array([[7],\n",
       "        [6],\n",
       "        [8]]),\n",
       " array([[3],\n",
       "        [5],\n",
       "        [2]]),\n",
       " array([[6, 3],\n",
       "        [6, 8],\n",
       "        [0, 2]])]"
      ]
     },
     "execution_count": 8,
     "metadata": {},
     "output_type": "execute_result"
    }
   ],
   "source": [
    "#指定切割的位置,可以指定多个位置\n",
    "np.hsplit(a1,(1,2))#对a1数组的第一列和第二列进行切割\n",
    "\n"
   ]
  },
  {
   "cell_type": "code",
   "execution_count": 11,
   "id": "90da5ec0",
   "metadata": {},
   "outputs": [
    {
     "data": {
      "text/plain": [
       "[array([[4, 0, 5, 0]]), array([[9, 9, 6, 1]]), array([[9, 0, 5, 9]])]"
      ]
     },
     "execution_count": 11,
     "metadata": {},
     "output_type": "execute_result"
    }
   ],
   "source": [
    "#横向切割\n",
    "np.vsplit(a1,(1,2))"
   ]
  },
  {
   "cell_type": "code",
   "execution_count": 13,
   "id": "8454ab88",
   "metadata": {},
   "outputs": [
    {
     "data": {
      "text/plain": [
       "[array([[4, 0, 5, 0]]), array([[9, 9, 6, 1]]), array([[9, 0, 5, 9]])]"
      ]
     },
     "execution_count": 13,
     "metadata": {},
     "output_type": "execute_result"
    }
   ],
   "source": [
    "np.vsplit(a1,3)"
   ]
  },
  {
   "cell_type": "code",
   "execution_count": 15,
   "id": "953f14d7",
   "metadata": {},
   "outputs": [
    {
     "data": {
      "text/plain": [
       "[array([[4, 0, 5, 0]]), array([[9, 9, 6, 1]]), array([[9, 0, 5, 9]])]"
      ]
     },
     "execution_count": 15,
     "metadata": {},
     "output_type": "execute_result"
    }
   ],
   "source": [
    "#综合型,axis=0位横向切割，=1为纵向切割\n",
    "np.split(a1,(1,2),axis=0)"
   ]
  }
 ],
 "metadata": {
  "kernelspec": {
   "display_name": "Python 3 (ipykernel)",
   "language": "python",
   "name": "python3"
  },
  "language_info": {
   "codemirror_mode": {
    "name": "ipython",
    "version": 3
   },
   "file_extension": ".py",
   "mimetype": "text/x-python",
   "name": "python",
   "nbconvert_exporter": "python",
   "pygments_lexer": "ipython3",
   "version": "3.8.11"
  }
 },
 "nbformat": 4,
 "nbformat_minor": 5
}
