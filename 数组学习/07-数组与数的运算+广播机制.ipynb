{
 "cells": [
  {
   "cell_type": "code",
   "execution_count": 2,
   "id": "4d8c473c",
   "metadata": {},
   "outputs": [],
   "source": [
    "import numpy as np"
   ]
  },
  {
   "cell_type": "code",
   "execution_count": 4,
   "id": "35038932",
   "metadata": {},
   "outputs": [
    {
     "data": {
      "text/plain": [
       "array([[0, 1, 3, 2, 2],\n",
       "       [2, 3, 2, 1, 2],\n",
       "       [2, 2, 2, 1, 3]])"
      ]
     },
     "execution_count": 4,
     "metadata": {},
     "output_type": "execute_result"
    }
   ],
   "source": [
    "a1 = np.random.randint(0,5,size=(3,5))\n",
    "a1"
   ]
  },
  {
   "cell_type": "code",
   "execution_count": 6,
   "id": "1b17f110",
   "metadata": {},
   "outputs": [
    {
     "data": {
      "text/plain": [
       "array([[0, 2, 6, 4, 4],\n",
       "       [4, 6, 4, 2, 4],\n",
       "       [4, 4, 4, 2, 6]])"
      ]
     },
     "execution_count": 6,
     "metadata": {},
     "output_type": "execute_result"
    }
   ],
   "source": [
    "a1*2#乘2代表所有数都乘以2"
   ]
  },
  {
   "cell_type": "code",
   "execution_count": 8,
   "id": "2687a6c4",
   "metadata": {},
   "outputs": [
    {
     "data": {
      "text/plain": [
       "array([[1, 2, 3, 1, 1],\n",
       "       [2, 0, 0, 1, 4],\n",
       "       [0, 0, 1, 3, 0]])"
      ]
     },
     "execution_count": 8,
     "metadata": {},
     "output_type": "execute_result"
    }
   ],
   "source": [
    "a2 = np.random.randint(0,5,size =(3,5))\n",
    "a2"
   ]
  },
  {
   "cell_type": "code",
   "execution_count": 10,
   "id": "e101de2d",
   "metadata": {},
   "outputs": [
    {
     "data": {
      "text/plain": [
       "array([[1, 3, 6, 3, 3],\n",
       "       [4, 3, 2, 2, 6],\n",
       "       [2, 2, 3, 4, 3]])"
      ]
     },
     "execution_count": 10,
     "metadata": {},
     "output_type": "execute_result"
    }
   ],
   "source": [
    "a1 + a2#行列数不一样的数组不能相加"
   ]
  },
  {
   "cell_type": "markdown",
   "id": "f1baebf6",
   "metadata": {},
   "source": [
    "# 数组与数组之间的计算"
   ]
  },
  {
   "cell_type": "code",
   "execution_count": 15,
   "id": "bc2425c5",
   "metadata": {},
   "outputs": [
    {
     "data": {
      "text/plain": [
       "array([[3],\n",
       "       [0],\n",
       "       [2]])"
      ]
     },
     "execution_count": 15,
     "metadata": {},
     "output_type": "execute_result"
    }
   ],
   "source": [
    "a3 = np.random.randint(0,5,size=(3,1))\n",
    "a3"
   ]
  },
  {
   "cell_type": "code",
   "execution_count": 17,
   "id": "82707a19",
   "metadata": {},
   "outputs": [
    {
     "data": {
      "text/plain": [
       "array([[3, 4, 6, 5, 5],\n",
       "       [2, 3, 2, 1, 2],\n",
       "       [4, 4, 4, 3, 5]])"
      ]
     },
     "execution_count": 17,
     "metadata": {},
     "output_type": "execute_result"
    }
   ],
   "source": [
    "a1+a3#行列数不一样的数组不能相加,但若有一个数组列为1例外，此含义为大的数组每一列都要去加上小的数组"
   ]
  },
  {
   "cell_type": "code",
   "execution_count": 20,
   "id": "bbc22b40",
   "metadata": {},
   "outputs": [
    {
     "data": {
      "text/plain": [
       "array([[2, 4, 0, 2, 2]])"
      ]
     },
     "execution_count": 20,
     "metadata": {},
     "output_type": "execute_result"
    }
   ],
   "source": [
    "a4 = np.random.randint(0,5,size=(1,5))\n",
    "a4"
   ]
  },
  {
   "cell_type": "code",
   "execution_count": 23,
   "id": "6dae5aa2",
   "metadata": {},
   "outputs": [
    {
     "data": {
      "text/plain": [
       "array([[2, 5, 3, 4, 4],\n",
       "       [4, 7, 2, 3, 4],\n",
       "       [4, 6, 2, 3, 5]])"
      ]
     },
     "execution_count": 23,
     "metadata": {},
     "output_type": "execute_result"
    }
   ],
   "source": [
    "a1+a4#对于行同理"
   ]
  },
  {
   "cell_type": "markdown",
   "id": "1ff24387",
   "metadata": {},
   "source": [
    "广播机制：两个数组的后缘维度的轴长度相符或者其中一方长度为1，则认为他们是广播相容的，广播会在缺失和长度为1的维度上进行。"
   ]
  }
 ],
 "metadata": {
  "kernelspec": {
   "display_name": "Python 3 (ipykernel)",
   "language": "python",
   "name": "python3"
  },
  "language_info": {
   "codemirror_mode": {
    "name": "ipython",
    "version": 3
   },
   "file_extension": ".py",
   "mimetype": "text/x-python",
   "name": "python",
   "nbconvert_exporter": "python",
   "pygments_lexer": "ipython3",
   "version": "3.8.11"
  }
 },
 "nbformat": 4,
 "nbformat_minor": 5
}
