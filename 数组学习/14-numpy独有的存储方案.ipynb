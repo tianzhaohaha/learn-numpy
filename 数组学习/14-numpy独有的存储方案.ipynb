{
 "cells": [
  {
   "cell_type": "code",
   "execution_count": 1,
   "id": "390d3be9",
   "metadata": {},
   "outputs": [],
   "source": [
    "import numpy as np"
   ]
  },
  {
   "cell_type": "code",
   "execution_count": 4,
   "id": "8645b862",
   "metadata": {},
   "outputs": [],
   "source": [
    "c= np.random.randint(0,10,size=(3,4))\n",
    "np.save(\"c\",c)#这里保存的是np独有的npy文件，只能通过numpy读取，分别是save和load"
   ]
  },
  {
   "cell_type": "code",
   "execution_count": 6,
   "id": "2be103e9",
   "metadata": {},
   "outputs": [
    {
     "data": {
      "text/plain": [
       "array([[6, 2, 9, 5],\n",
       "       [5, 4, 0, 5],\n",
       "       [6, 8, 9, 1]])"
      ]
     },
     "execution_count": 6,
     "metadata": {},
     "output_type": "execute_result"
    }
   ],
   "source": [
    "d=np.load(\"c.npy\")\n",
    "d"
   ]
  },
  {
   "cell_type": "code",
   "execution_count": null,
   "id": "50416781",
   "metadata": {},
   "outputs": [],
   "source": [
    "#这种方式较为适合存储纯数据，无字符串\n",
    "#而且这种方式可以存储多维数组，而普通的savetxt只能存储二维的"
   ]
  }
 ],
 "metadata": {
  "kernelspec": {
   "display_name": "Python 3 (ipykernel)",
   "language": "python",
   "name": "python3"
  },
  "language_info": {
   "codemirror_mode": {
    "name": "ipython",
    "version": 3
   },
   "file_extension": ".py",
   "mimetype": "text/x-python",
   "name": "python",
   "nbconvert_exporter": "python",
   "pygments_lexer": "ipython3",
   "version": "3.8.11"
  }
 },
 "nbformat": 4,
 "nbformat_minor": 5
}
