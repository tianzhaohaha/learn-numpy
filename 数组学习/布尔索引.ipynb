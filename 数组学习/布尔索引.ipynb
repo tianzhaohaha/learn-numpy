{
 "cells": [
  {
   "cell_type": "code",
   "execution_count": 2,
   "id": "863b218e",
   "metadata": {},
   "outputs": [],
   "source": [
    "import numpy as np"
   ]
  },
  {
   "cell_type": "code",
   "execution_count": 18,
   "id": "0ff06dd2",
   "metadata": {},
   "outputs": [
    {
     "data": {
      "text/plain": [
       "array([[5, 8, 0, 2, 6, 0],\n",
       "       [3, 5, 4, 9, 9, 7],\n",
       "       [8, 4, 5, 2, 3, 0]])"
      ]
     },
     "execution_count": 18,
     "metadata": {},
     "output_type": "execute_result"
    }
   ],
   "source": [
    "a1 = np.random.randint(0,10,(3,6))\n",
    "a1"
   ]
  },
  {
   "cell_type": "code",
   "execution_count": 19,
   "id": "fa3513e5",
   "metadata": {},
   "outputs": [
    {
     "name": "stdout",
     "output_type": "stream",
     "text": [
      "[[ True False  True  True False  True]\n",
      " [ True  True  True False False False]\n",
      " [False  True  True  True  True  True]]\n"
     ]
    }
   ],
   "source": [
    "print(a1<6)#可以看出a1数组里小于6的都标记为true#判断条件多样，不仅只有这个；也可以多条件"
   ]
  },
  {
   "cell_type": "code",
   "execution_count": 20,
   "id": "cd6888c5",
   "metadata": {},
   "outputs": [
    {
     "data": {
      "text/plain": [
       "array([5, 0, 2, 0, 3, 5, 4, 4, 5, 2, 3, 0])"
      ]
     },
     "execution_count": 20,
     "metadata": {},
     "output_type": "execute_result"
    }
   ],
   "source": [
    "a1[a1<6]"
   ]
  },
  {
   "cell_type": "code",
   "execution_count": 22,
   "id": "db32dbbe",
   "metadata": {},
   "outputs": [
    {
     "data": {
      "text/plain": [
       "array([5, 3, 5, 4, 4, 5, 3])"
      ]
     },
     "execution_count": 22,
     "metadata": {},
     "output_type": "execute_result"
    }
   ],
   "source": [
    "a1[(a1<6) & (a1>2)]#多条件"
   ]
  },
  {
   "cell_type": "code",
   "execution_count": null,
   "id": "9acd4323",
   "metadata": {},
   "outputs": [],
   "source": []
  }
 ],
 "metadata": {
  "kernelspec": {
   "display_name": "Python 3 (ipykernel)",
   "language": "python",
   "name": "python3"
  },
  "language_info": {
   "codemirror_mode": {
    "name": "ipython",
    "version": 3
   },
   "file_extension": ".py",
   "mimetype": "text/x-python",
   "name": "python",
   "nbconvert_exporter": "python",
   "pygments_lexer": "ipython3",
   "version": "3.8.11"
  }
 },
 "nbformat": 4,
 "nbformat_minor": 5
}
