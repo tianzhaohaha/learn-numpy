{
 "cells": [
  {
   "cell_type": "code",
   "execution_count": 2,
   "id": "5e1ee267",
   "metadata": {},
   "outputs": [],
   "source": [
    "import numpy as np"
   ]
  },
  {
   "cell_type": "code",
   "execution_count": 20,
   "id": "532b9930",
   "metadata": {},
   "outputs": [
    {
     "data": {
      "text/plain": [
       "array([[3, 6, 6, 0],\n",
       "       [4, 3, 6, 9],\n",
       "       [3, 4, 7, 1]])"
      ]
     },
     "execution_count": 20,
     "metadata": {},
     "output_type": "execute_result"
    }
   ],
   "source": [
    "a1 = np.random.randint(0,10,(3,4))\n",
    "a1"
   ]
  },
  {
   "cell_type": "code",
   "execution_count": 21,
   "id": "b49bdf38",
   "metadata": {},
   "outputs": [],
   "source": [
    "a1.T\n",
    "a2 =a1.T"
   ]
  },
  {
   "cell_type": "code",
   "execution_count": 22,
   "id": "feee1511",
   "metadata": {},
   "outputs": [
    {
     "data": {
      "text/plain": [
       "array([[ 81,  66,  75],\n",
       "       [ 66, 142,  75],\n",
       "       [ 75,  75,  75]])"
      ]
     },
     "execution_count": 22,
     "metadata": {},
     "output_type": "execute_result"
    }
   ],
   "source": [
    "#矩阵相乘\n",
    "a1.dot(a1.T)"
   ]
  },
  {
   "cell_type": "code",
   "execution_count": 23,
   "id": "632970a8",
   "metadata": {},
   "outputs": [
    {
     "data": {
      "text/plain": [
       "array([[3, 4, 3],\n",
       "       [6, 3, 4],\n",
       "       [6, 6, 7],\n",
       "       [0, 9, 1]])"
      ]
     },
     "execution_count": 23,
     "metadata": {},
     "output_type": "execute_result"
    }
   ],
   "source": [
    "a1.transpose()#transpose()转置矩阵返回的是一View"
   ]
  }
 ],
 "metadata": {
  "kernelspec": {
   "display_name": "Python 3 (ipykernel)",
   "language": "python",
   "name": "python3"
  },
  "language_info": {
   "codemirror_mode": {
    "name": "ipython",
    "version": 3
   },
   "file_extension": ".py",
   "mimetype": "text/x-python",
   "name": "python",
   "nbconvert_exporter": "python",
   "pygments_lexer": "ipython3",
   "version": "3.8.11"
  }
 },
 "nbformat": 4,
 "nbformat_minor": 5
}
