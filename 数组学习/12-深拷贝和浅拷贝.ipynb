{
 "cells": [
  {
   "cell_type": "code",
   "execution_count": 1,
   "id": "3cde9481",
   "metadata": {},
   "outputs": [],
   "source": [
    "import numpy as np"
   ]
  },
  {
   "cell_type": "code",
   "execution_count": 4,
   "id": "01b374b3",
   "metadata": {},
   "outputs": [
    {
     "name": "stdout",
     "output_type": "stream",
     "text": [
      "True\n"
     ]
    }
   ],
   "source": [
    "#不拷贝，\n",
    "a= np.arange(10)\n",
    "b =a\n",
    "print(b is a)#数组保存在内存中，保存在堆区，a是一个指向数组的栈区的变量。b=a，即是给a赋予了一个名字b，两者指向一样的空间"
   ]
  },
  {
   "cell_type": "code",
   "execution_count": 7,
   "id": "07428cf2",
   "metadata": {},
   "outputs": [
    {
     "name": "stdout",
     "output_type": "stream",
     "text": [
      "False\n"
     ]
    }
   ],
   "source": [
    "#View或者浅拷贝\n",
    "#深拷贝是同时拷贝栈区的变量和堆区的数组，浅拷贝是只拷贝栈去的变量（可以理解为指针或者引用\n",
    "c=a.view()\n",
    "print(c is a)#可知a与c在不同的栈区，但修改数组的值是一样的"
   ]
  },
  {
   "cell_type": "code",
   "execution_count": 8,
   "id": "82f36cd1",
   "metadata": {},
   "outputs": [
    {
     "name": "stdout",
     "output_type": "stream",
     "text": [
      "False\n"
     ]
    }
   ],
   "source": [
    "#深拷贝\n",
    "#栈区和堆区都会拷贝\n",
    "d=a.copy()\n",
    "print(d is a)"
   ]
  },
  {
   "cell_type": "code",
   "execution_count": 12,
   "id": "7de70d79",
   "metadata": {},
   "outputs": [
    {
     "data": {
      "text/plain": [
       "array([100,   1,   2,   3,   4,   5,   6,   7,   8,   9])"
      ]
     },
     "execution_count": 12,
     "metadata": {},
     "output_type": "execute_result"
    }
   ],
   "source": [
    "d[0]=100\n",
    "d"
   ]
  },
  {
   "cell_type": "code",
   "execution_count": 13,
   "id": "3a3d8c36",
   "metadata": {},
   "outputs": [
    {
     "data": {
      "text/plain": [
       "array([0, 1, 2, 3, 4, 5, 6, 7, 8, 9])"
      ]
     },
     "execution_count": 13,
     "metadata": {},
     "output_type": "execute_result"
    }
   ],
   "source": [
    "a"
   ]
  }
 ],
 "metadata": {
  "kernelspec": {
   "display_name": "Python 3 (ipykernel)",
   "language": "python",
   "name": "python3"
  },
  "language_info": {
   "codemirror_mode": {
    "name": "ipython",
    "version": 3
   },
   "file_extension": ".py",
   "mimetype": "text/x-python",
   "name": "python",
   "nbconvert_exporter": "python",
   "pygments_lexer": "ipython3",
   "version": "3.8.11"
  }
 },
 "nbformat": 4,
 "nbformat_minor": 5
}
