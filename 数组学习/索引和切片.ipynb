{
 "cells": [
  {
   "cell_type": "code",
   "execution_count": 9,
   "id": "653475b5",
   "metadata": {},
   "outputs": [],
   "source": [
    "import numpy as np"
   ]
  },
  {
   "cell_type": "markdown",
   "id": "5e046af3",
   "metadata": {},
   "source": [
    "# 一位数组"
   ]
  },
  {
   "cell_type": "code",
   "execution_count": 8,
   "id": "76770b2d",
   "metadata": {},
   "outputs": [
    {
     "name": "stdout",
     "output_type": "stream",
     "text": [
      "4\n",
      "[4 5]\n"
     ]
    },
    {
     "data": {
      "text/plain": [
       "9"
      ]
     },
     "execution_count": 8,
     "metadata": {},
     "output_type": "execute_result"
    }
   ],
   "source": [
    "#1.一维数组的索引和切片\n",
    "a1 = np.arange(10)\n",
    "\n",
    "#1.1索引，第五位\n",
    "print(a1[4])\n",
    "\n",
    "#1.2切片，5-6两位\n",
    "print(a1[4:6])\n",
    "\n",
    "#1.3使用步长,从0开始，每隔2步现实一位数\n",
    "a1[::2]\n",
    "\n",
    "#1.4使用负数作为索引\n",
    "a1[-1]\n",
    "\n",
    "#"
   ]
  },
  {
   "cell_type": "markdown",
   "id": "ccf79069",
   "metadata": {},
   "source": [
    "# 二维数组"
   ]
  },
  {
   "cell_type": "code",
   "execution_count": 23,
   "id": "5bc45c22",
   "metadata": {},
   "outputs": [
    {
     "data": {
      "text/plain": [
       "array([[7, 4, 6, 3, 8, 5],\n",
       "       [3, 1, 5, 7, 9, 2],\n",
       "       [4, 1, 2, 5, 1, 5],\n",
       "       [3, 5, 9, 2, 6, 3]])"
      ]
     },
     "execution_count": 23,
     "metadata": {},
     "output_type": "execute_result"
    }
   ],
   "source": [
    "#多维数组也是通过【】来索引切片的，在中括号中，使用逗号进行分割，逗号前面是行，后面是列\n",
    "#如果多维数组中只有一个值，这个值就是行\n",
    "\n",
    "a2 = np.random.randint(0,10,(4,6))\n",
    "\n",
    "a2"
   ]
  },
  {
   "cell_type": "code",
   "execution_count": 25,
   "id": "2d09c839",
   "metadata": {},
   "outputs": [
    {
     "name": "stdout",
     "output_type": "stream",
     "text": [
      "[7 4 6 3 8 5]\n"
     ]
    }
   ],
   "source": [
    "print(a2[0])"
   ]
  },
  {
   "cell_type": "code",
   "execution_count": 28,
   "id": "04dc8b2a",
   "metadata": {},
   "outputs": [
    {
     "data": {
      "text/plain": [
       "array([[7, 4, 6, 3, 8, 5],\n",
       "       [3, 1, 5, 7, 9, 2]])"
      ]
     },
     "execution_count": 28,
     "metadata": {},
     "output_type": "execute_result"
    }
   ],
   "source": [
    "a2[0:2]#表示获取多行1-2行数据"
   ]
  },
  {
   "cell_type": "code",
   "execution_count": 34,
   "id": "89596abb",
   "metadata": {},
   "outputs": [
    {
     "data": {
      "text/plain": [
       "array([[7, 4, 6, 3, 8, 5],\n",
       "       [4, 1, 2, 5, 1, 5],\n",
       "       [3, 5, 9, 2, 6, 3]])"
      ]
     },
     "execution_count": 34,
     "metadata": {},
     "output_type": "execute_result"
    }
   ],
   "source": [
    "a2[[0,2,3]]\n",
    "#表示获取具体某一行1，3，4行数据***"
   ]
  },
  {
   "cell_type": "code",
   "execution_count": 36,
   "id": "bc3e1d47",
   "metadata": {},
   "outputs": [
    {
     "data": {
      "text/plain": [
       "1"
      ]
     },
     "execution_count": 36,
     "metadata": {},
     "output_type": "execute_result"
    }
   ],
   "source": [
    "a2[1,1]\n",
    "#获取数组中的某一个数"
   ]
  },
  {
   "cell_type": "code",
   "execution_count": 40,
   "id": "9c1cb7c1",
   "metadata": {},
   "outputs": [
    {
     "data": {
      "text/plain": [
       "array([9, 5])"
      ]
     },
     "execution_count": 40,
     "metadata": {},
     "output_type": "execute_result"
    }
   ],
   "source": [
    "#获具体某个位子的数据***\n",
    "a2[[1,2],[4,5]]#这里代表的是获取第一行第四列与第二行第五列的数据"
   ]
  },
  {
   "cell_type": "code",
   "execution_count": 47,
   "id": "7a615dad",
   "metadata": {},
   "outputs": [
    {
     "data": {
      "text/plain": [
       "array([[1, 5],\n",
       "       [1, 2]])"
      ]
     },
     "execution_count": 47,
     "metadata": {},
     "output_type": "execute_result"
    }
   ],
   "source": [
    "#抠出一个小矩阵****\n",
    "\n",
    "a2[1:3,1:3]"
   ]
  },
  {
   "cell_type": "code",
   "execution_count": 46,
   "id": "2b204786",
   "metadata": {},
   "outputs": [
    {
     "data": {
      "text/plain": [
       "array([4, 1, 1, 5])"
      ]
     },
     "execution_count": 46,
     "metadata": {},
     "output_type": "execute_result"
    }
   ],
   "source": [
    "#获取某一列数据\n",
    "a2[:,1]\n"
   ]
  }
 ],
 "metadata": {
  "kernelspec": {
   "display_name": "Python 3 (ipykernel)",
   "language": "python",
   "name": "python3"
  },
  "language_info": {
   "codemirror_mode": {
    "name": "ipython",
    "version": 3
   },
   "file_extension": ".py",
   "mimetype": "text/x-python",
   "name": "python",
   "nbconvert_exporter": "python",
   "pygments_lexer": "ipython3",
   "version": "3.8.11"
  }
 },
 "nbformat": 4,
 "nbformat_minor": 5
}
