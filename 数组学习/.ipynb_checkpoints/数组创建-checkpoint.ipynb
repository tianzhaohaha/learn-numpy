{
 "cells": [
  {
   "cell_type": "code",
   "execution_count": 15,
   "id": "c465e8d3",
   "metadata": {},
   "outputs": [],
   "source": [
    "import numpy as np"
   ]
  },
  {
   "cell_type": "markdown",
   "id": "e435a474",
   "metadata": {},
   "source": [
    "## 1.数据类型统一"
   ]
  },
  {
   "cell_type": "code",
   "execution_count": 13,
   "id": "eed9fdd2",
   "metadata": {},
   "outputs": [],
   "source": [
    "\n",
    "b = [1,2,'3','4']#在python里数组内数据类型可以是任意的，但在nparray里数据类型需要是统一的\n"
   ]
  },
  {
   "cell_type": "code",
   "execution_count": 14,
   "id": "922a82dc",
   "metadata": {},
   "outputs": [
    {
     "data": {
      "text/plain": [
       "array(['1', '2', '3', '4'], dtype='<U21')"
      ]
     },
     "execution_count": 14,
     "metadata": {},
     "output_type": "execute_result"
    }
   ],
   "source": [
    "a= np.array(b)\n",
    "a#如下所示，b列表里所有数据都被转换成了字符型"
   ]
  },
  {
   "cell_type": "markdown",
   "id": "79466cac",
   "metadata": {},
   "source": [
    "## 2.数组创建"
   ]
  },
  {
   "cell_type": "code",
   "execution_count": 23,
   "id": "f6798fd3",
   "metadata": {},
   "outputs": [
    {
     "name": "stdout",
     "output_type": "stream",
     "text": [
      "[1 2 3 4]\n",
      "<class 'numpy.ndarray'>\n"
     ]
    }
   ],
   "source": [
    "#1.使用np.array创建数组\n",
    "\n",
    "a =np.array([1,2,3,4])\n",
    "print(a)#打印数组中间是没有逗号的，和列表区分\n",
    "print(type(a))"
   ]
  },
  {
   "cell_type": "code",
   "execution_count": 25,
   "id": "fbc62685",
   "metadata": {},
   "outputs": [
    {
     "data": {
      "text/plain": [
       "array([0, 1, 2, 3, 4, 5, 6, 7, 8, 9])"
      ]
     },
     "execution_count": 25,
     "metadata": {},
     "output_type": "execute_result"
    }
   ],
   "source": [
    "#2.使用np.arange创建数组\n",
    "\n",
    "b = np.arange(10)#会返回一个0-10数组\n",
    "b"
   ]
  },
  {
   "cell_type": "code",
   "execution_count": 31,
   "id": "7ea0d120",
   "metadata": {},
   "outputs": [
    {
     "data": {
      "text/plain": [
       "array([[0.52401952, 0.03271492],\n",
       "       [0.32464585, 0.91601857]])"
      ]
     },
     "execution_count": 31,
     "metadata": {},
     "output_type": "execute_result"
    }
   ],
   "source": [
    "#3.使用random生成随机数\n",
    "\n",
    "c = np.random.random((2,2))#给出你希望得到一个几行几列的数组\n",
    "c\n"
   ]
  },
  {
   "cell_type": "code",
   "execution_count": 33,
   "id": "097f133f",
   "metadata": {},
   "outputs": [
    {
     "data": {
      "text/plain": [
       "array([[1, 2, 2, 8],\n",
       "       [1, 7, 7, 1],\n",
       "       [4, 8, 0, 8],\n",
       "       [3, 5, 6, 2]])"
      ]
     },
     "execution_count": 33,
     "metadata": {},
     "output_type": "execute_result"
    }
   ],
   "source": [
    "d = np.random.randint(0,9,size=(4,4))#这里表示需要一个包含0-9整型2*2数组\n",
    "d"
   ]
  },
  {
   "cell_type": "code",
   "execution_count": 43,
   "id": "8eee5d00",
   "metadata": {},
   "outputs": [
    {
     "data": {
      "text/plain": [
       "array([[1., 0., 0., 0.],\n",
       "       [0., 1., 0., 0.],\n",
       "       [0., 0., 1., 0.],\n",
       "       [0., 0., 0., 1.]])"
      ]
     },
     "execution_count": 43,
     "metadata": {},
     "output_type": "execute_result"
    }
   ],
   "source": [
    "#4.特殊函数\n",
    "a1 = np.zeros((3,3))\n",
    "a2 = np.ones((4,4))\n",
    "a3 = np.full((5,5),666)#创建一个5行5列的数组，填入666\n",
    "a4 =np.eye(4)#在对角线上填入4\n",
    "a4"
   ]
  },
  {
   "cell_type": "markdown",
   "id": "76c7d9e3",
   "metadata": {},
   "source": [
    "# 总结：\n",
    "#1.使用np.array创建数组    \n",
    "#2.使用np.arange创建数组    \n",
    "#3.使用random生成随机数    \n",
    "#4.特殊函数      \n",
    "nparray里数据类型需要是统一的  "
   ]
  }
 ],
 "metadata": {
  "kernelspec": {
   "display_name": "Python 3 (ipykernel)",
   "language": "python",
   "name": "python3"
  },
  "language_info": {
   "codemirror_mode": {
    "name": "ipython",
    "version": 3
   },
   "file_extension": ".py",
   "mimetype": "text/x-python",
   "name": "python",
   "nbconvert_exporter": "python",
   "pygments_lexer": "ipython3",
   "version": "3.8.11"
  }
 },
 "nbformat": 4,
 "nbformat_minor": 5
}
