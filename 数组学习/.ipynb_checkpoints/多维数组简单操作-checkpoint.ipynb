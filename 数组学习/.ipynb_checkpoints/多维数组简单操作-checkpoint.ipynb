{
 "cells": [
  {
   "cell_type": "code",
   "execution_count": 2,
   "id": "7b654d07",
   "metadata": {},
   "outputs": [],
   "source": [
    "import numpy as np\n"
   ]
  },
  {
   "cell_type": "markdown",
   "id": "b44d467e",
   "metadata": {},
   "source": [
    "# 数组维度：ndim"
   ]
  },
  {
   "cell_type": "code",
   "execution_count": 10,
   "id": "198abcff",
   "metadata": {},
   "outputs": [
    {
     "name": "stdout",
     "output_type": "stream",
     "text": [
      "1\n",
      "2\n",
      "3\n"
     ]
    }
   ],
   "source": [
    "a1 = np.array([1,2,3])\n",
    "print(a1.ndim)\n",
    "a2 = np.array([[1,2,3],[1,2,3]])\n",
    "print(a2.ndim)\n",
    "a3 = np.array([\n",
    "    [\n",
    "        [1,2,3],\n",
    "        [4,5,6]\n",
    "    ],\n",
    "    [\n",
    "        [1,2,3],\n",
    "        [4,5,6]\n",
    "    ]\n",
    "])\n",
    "print(a3.ndim)"
   ]
  },
  {
   "cell_type": "markdown",
   "id": "a71e1c62",
   "metadata": {},
   "source": [
    "# 形状shape"
   ]
  },
  {
   "cell_type": "code",
   "execution_count": 14,
   "id": "77a4f2b7",
   "metadata": {},
   "outputs": [
    {
     "name": "stdout",
     "output_type": "stream",
     "text": [
      "(3,)\n",
      "(2, 3)\n",
      "(2, 2, 3)\n"
     ]
    }
   ],
   "source": [
    "print(a1.shape)\n",
    "print(a2.shape)\n",
    "print(a3.shape)"
   ]
  },
  {
   "cell_type": "markdown",
   "id": "6dd9f8a4",
   "metadata": {},
   "source": [
    "# 变形rshape"
   ]
  },
  {
   "cell_type": "code",
   "execution_count": 22,
   "id": "fff939a5",
   "metadata": {},
   "outputs": [
    {
     "data": {
      "text/plain": [
       "array([[1, 2, 3, 4],\n",
       "       [5, 6, 1, 2],\n",
       "       [3, 4, 5, 6]])"
      ]
     },
     "execution_count": 22,
     "metadata": {},
     "output_type": "execute_result"
    }
   ],
   "source": [
    "a4=a3.reshape((3,4))#注意这里元素个数前后应该保持一致,这里变换的含义是变为有3个数组，每个数组里含有4个元素\n",
    "a4"
   ]
  },
  {
   "cell_type": "code",
   "execution_count": 28,
   "id": "8cd19cf4",
   "metadata": {},
   "outputs": [
    {
     "data": {
      "text/plain": [
       "array([1, 2, 3, 4, 5, 6, 1, 2, 3, 4, 5, 6])"
      ]
     },
     "execution_count": 28,
     "metadata": {},
     "output_type": "execute_result"
    }
   ],
   "source": [
    "a5 = a3.reshape((12,))#这里对应的意思是，变为12个独立的元素，不是（1，12）的原因是，这个格式会变为一个包含一个数组的数组类似这样->[[X]]\n",
    "a5"
   ]
  },
  {
   "cell_type": "markdown",
   "id": "ce257b75",
   "metadata": {},
   "source": [
    "# 变为一维数组faltten（）"
   ]
  },
  {
   "cell_type": "code",
   "execution_count": 30,
   "id": "08948b28",
   "metadata": {},
   "outputs": [
    {
     "data": {
      "text/plain": [
       "array([1, 2, 3, 4, 5, 6, 1, 2, 3, 4, 5, 6])"
      ]
     },
     "execution_count": 30,
     "metadata": {},
     "output_type": "execute_result"
    }
   ],
   "source": [
    "a6 = a3.flatten()#直接变为一个一位数组\n",
    "a6"
   ]
  },
  {
   "cell_type": "markdown",
   "id": "28cf74b4",
   "metadata": {},
   "source": [
    "# 获取元素个数：size"
   ]
  },
  {
   "cell_type": "code",
   "execution_count": 32,
   "id": "e665945c",
   "metadata": {},
   "outputs": [
    {
     "name": "stdout",
     "output_type": "stream",
     "text": [
      "12\n"
     ]
    }
   ],
   "source": [
    "print(a6.size)"
   ]
  },
  {
   "cell_type": "code",
   "execution_count": 36,
   "id": "44e37894",
   "metadata": {},
   "outputs": [
    {
     "name": "stdout",
     "output_type": "stream",
     "text": [
      "8\n",
      "96\n"
     ]
    }
   ],
   "source": [
    "\n",
    "print(a6.itemsize)#打印每一个元素所占字节\n",
    "print(a6.itemsize*a6.size)#整体所占字节"
   ]
  }
 ],
 "metadata": {
  "kernelspec": {
   "display_name": "Python 3 (ipykernel)",
   "language": "python",
   "name": "python3"
  },
  "language_info": {
   "codemirror_mode": {
    "name": "ipython",
    "version": 3
   },
   "file_extension": ".py",
   "mimetype": "text/x-python",
   "name": "python",
   "nbconvert_exporter": "python",
   "pygments_lexer": "ipython3",
   "version": "3.8.11"
  }
 },
 "nbformat": 4,
 "nbformat_minor": 5
}
