{
 "cells": [
  {
   "cell_type": "code",
   "execution_count": 2,
   "id": "7dd1f7f2",
   "metadata": {},
   "outputs": [],
   "source": [
    "import numpy as np"
   ]
  },
  {
   "cell_type": "code",
   "execution_count": 4,
   "id": "b52e4a84",
   "metadata": {},
   "outputs": [
    {
     "data": {
      "text/plain": [
       "array([[5, 3, 6, 6, 7, 4],\n",
       "       [9, 9, 8, 7, 1, 1],\n",
       "       [5, 5, 6, 6, 1, 3],\n",
       "       [1, 4, 4, 2, 4, 9]])"
      ]
     },
     "execution_count": 4,
     "metadata": {},
     "output_type": "execute_result"
    }
   ],
   "source": [
    "a1 = np.random.randint(0,10,(4,6))\n",
    "a1"
   ]
  },
  {
   "cell_type": "code",
   "execution_count": 8,
   "id": "215f435d",
   "metadata": {},
   "outputs": [
    {
     "data": {
      "text/plain": [
       "array([[5, 3, 6, 6, 7, 4],\n",
       "       [0, 1, 2, 3, 4, 5],\n",
       "       [5, 5, 6, 6, 1, 3],\n",
       "       [1, 4, 4, 2, 4, 9]])"
      ]
     },
     "execution_count": 8,
     "metadata": {},
     "output_type": "execute_result"
    }
   ],
   "source": [
    "#数组某一个部位值的替换，首先用索引找到对应的部位，在将准备好的值赋予\n",
    "\n",
    "a1[1] =np.arange(6)\n",
    "a1"
   ]
  },
  {
   "cell_type": "code",
   "execution_count": 13,
   "id": "4f1d0454",
   "metadata": {},
   "outputs": [
    {
     "data": {
      "text/plain": [
       "(array([0, 0, 1, 1, 1, 1, 1, 2, 2, 3, 3, 3, 3, 3]),\n",
       " array([1, 5, 0, 1, 2, 3, 4, 4, 5, 0, 1, 2, 3, 4]))"
      ]
     },
     "execution_count": 13,
     "metadata": {},
     "output_type": "execute_result"
    }
   ],
   "source": [
    "np.where(a1<5)#下面给的两行指的是位置"
   ]
  },
  {
   "cell_type": "code",
   "execution_count": 16,
   "id": "949f8a09",
   "metadata": {},
   "outputs": [],
   "source": [
    "a1[a1<5]=4"
   ]
  },
  {
   "cell_type": "code",
   "execution_count": 17,
   "id": "7857440c",
   "metadata": {},
   "outputs": [
    {
     "data": {
      "text/plain": [
       "array([[1, 0, 1, 1, 1, 0],\n",
       "       [0, 0, 0, 0, 0, 1],\n",
       "       [1, 1, 1, 1, 0, 0],\n",
       "       [0, 0, 0, 0, 0, 1]])"
      ]
     },
     "execution_count": 17,
     "metadata": {},
     "output_type": "execute_result"
    }
   ],
   "source": [
    "np.where(a1<5,0,1)#如果满足条件，就替换成0，反之变为1"
   ]
  }
 ],
 "metadata": {
  "kernelspec": {
   "display_name": "Python 3 (ipykernel)",
   "language": "python",
   "name": "python3"
  },
  "language_info": {
   "codemirror_mode": {
    "name": "ipython",
    "version": 3
   },
   "file_extension": ".py",
   "mimetype": "text/x-python",
   "name": "python",
   "nbconvert_exporter": "python",
   "pygments_lexer": "ipython3",
   "version": "3.8.11"
  }
 },
 "nbformat": 4,
 "nbformat_minor": 5
}
