{
 "cells": [
  {
   "cell_type": "markdown",
   "id": "c4b6d84f",
   "metadata": {},
   "source": [
    "# 垂直，水平叠加"
   ]
  },
  {
   "cell_type": "code",
   "execution_count": 2,
   "id": "751082d9",
   "metadata": {},
   "outputs": [],
   "source": [
    "import numpy as np"
   ]
  },
  {
   "cell_type": "code",
   "execution_count": 4,
   "id": "bd8d3c67",
   "metadata": {},
   "outputs": [
    {
     "data": {
      "text/plain": [
       "array([[7, 2, 5, 8],\n",
       "       [3, 0, 9, 0],\n",
       "       [1, 0, 6, 0],\n",
       "       [8, 5, 3, 2],\n",
       "       [3, 4, 8, 7]])"
      ]
     },
     "execution_count": 4,
     "metadata": {},
     "output_type": "execute_result"
    }
   ],
   "source": [
    "#垂直叠加，列数必须相同\n",
    "a1 = np.random.randint(0,10,(3,4))\n",
    "a2 = np.random.randint(0,10,(2,4))#两数组行数不相同，但列数相同\n",
    "#垂直叠加\n",
    "a3 = np.vstack([a1,a2])\n",
    "a3"
   ]
  },
  {
   "cell_type": "code",
   "execution_count": 7,
   "id": "513382dd",
   "metadata": {},
   "outputs": [
    {
     "data": {
      "text/plain": [
       "array([[3, 1, 6, 1, 0, 3, 3, 1, 5, 2, 5],\n",
       "       [6, 2, 5, 2, 3, 6, 2, 0, 6, 2, 4],\n",
       "       [6, 7, 8, 4, 2, 8, 9, 2, 4, 3, 8]])"
      ]
     },
     "execution_count": 7,
     "metadata": {},
     "output_type": "execute_result"
    }
   ],
   "source": [
    "#水平叠加，行数一致\n",
    "a4 = np.random.randint(0,10,(3,4))\n",
    "a5 = np.random.randint(0,10,(3,7))\n",
    "\n",
    "a6 = np.hstack([a4,a5])\n",
    "a6"
   ]
  },
  {
   "cell_type": "code",
   "execution_count": 9,
   "id": "506c07d6",
   "metadata": {},
   "outputs": [
    {
     "data": {
      "text/plain": [
       "array([[3, 1, 6, 1, 0, 3, 3, 1, 5, 2, 5],\n",
       "       [6, 2, 5, 2, 3, 6, 2, 0, 6, 2, 4],\n",
       "       [6, 7, 8, 4, 2, 8, 9, 2, 4, 3, 8]])"
      ]
     },
     "execution_count": 9,
     "metadata": {},
     "output_type": "execute_result"
    }
   ],
   "source": [
    "#一个通用的函数，需要指定在哪个轴上叠加axis=0位纵轴叠加（垂直）\n",
    "a7 =np.concatenate([a1,a2],axis=0)\n",
    "a8 =np.concatenate([a4,a5],axis=1)\n",
    "a8"
   ]
  }
 ],
 "metadata": {
  "kernelspec": {
   "display_name": "Python 3 (ipykernel)",
   "language": "python",
   "name": "python3"
  },
  "language_info": {
   "codemirror_mode": {
    "name": "ipython",
    "version": 3
   },
   "file_extension": ".py",
   "mimetype": "text/x-python",
   "name": "python",
   "nbconvert_exporter": "python",
   "pygments_lexer": "ipython3",
   "version": "3.8.11"
  }
 },
 "nbformat": 4,
 "nbformat_minor": 5
}
